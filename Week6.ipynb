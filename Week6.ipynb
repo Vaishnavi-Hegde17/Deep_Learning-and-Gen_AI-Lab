{
  "cells": [
    {
      "cell_type": "markdown",
      "metadata": {
        "id": "view-in-github",
        "colab_type": "text"
      },
      "source": [
        "<a href=\"https://colab.research.google.com/github/Vaishnavi-Hegde17/Deep_Learning-and-Gen_AI-Lab/blob/main/Week6.ipynb\" target=\"_parent\"><img src=\"https://colab.research.google.com/assets/colab-badge.svg\" alt=\"Open In Colab\"/></a>"
      ]
    },
    {
      "cell_type": "markdown",
      "metadata": {
        "id": "ekwD80pbaA3a"
      },
      "source": [
        "**Week-6: Transfer Learning**\n",
        "\n",
        "Implement the standard LeNet, AlexNet, VGG CNN architecture model to classify multicategory image dataset.\n",
        "\n",
        "MNIST handwritten digits (0-9)\n",
        "\n",
        "Note down accuracies obtained for epochs 5, 50, 250.\n",
        "\n"
      ]
    },
    {
      "cell_type": "code",
      "execution_count": 1,
      "metadata": {
        "id": "r2RxIHc6Z5CG"
      },
      "outputs": [],
      "source": [
        "import torch\n",
        "import torch.nn as nn\n",
        "import torch.optim as optim\n",
        "from torchvision import datasets, transforms\n",
        "from torch.utils.data import DataLoader\n",
        "from tqdm import tqdm\n"
      ]
    },
    {
      "cell_type": "code",
      "execution_count": 2,
      "metadata": {
        "id": "zgL8MH6zaLjS",
        "colab": {
          "base_uri": "https://localhost:8080/"
        },
        "outputId": "496d978a-9ec0-4c91-d363-42247410de34"
      },
      "outputs": [
        {
          "output_type": "stream",
          "name": "stderr",
          "text": [
            "100%|██████████| 9.91M/9.91M [00:00<00:00, 59.3MB/s]\n",
            "100%|██████████| 28.9k/28.9k [00:00<00:00, 1.73MB/s]\n",
            "100%|██████████| 1.65M/1.65M [00:00<00:00, 14.7MB/s]\n",
            "100%|██████████| 4.54k/4.54k [00:00<00:00, 2.97MB/s]\n"
          ]
        }
      ],
      "source": [
        "transform = transforms.Compose([\n",
        "    transforms.Resize((32, 32)),  # Resize for compatibility with AlexNet/VGG\n",
        "    transforms.ToTensor()\n",
        "])\n",
        "\n",
        "train_dataset = datasets.MNIST(root='./data', train=True, download=True, transform=transform)\n",
        "test_dataset = datasets.MNIST(root='./data', train=False, download=True, transform=transform)\n",
        "\n",
        "train_loader = DataLoader(train_dataset, batch_size=64, shuffle=True)\n",
        "test_loader = DataLoader(test_dataset, batch_size=64, shuffle=False)\n"
      ]
    },
    {
      "cell_type": "code",
      "execution_count": 3,
      "metadata": {
        "id": "KFNhZGcGaOqy"
      },
      "outputs": [],
      "source": [
        "class LeNet(nn.Module):\n",
        "    def __init__(self):\n",
        "        super(LeNet, self).__init__()\n",
        "        self.model = nn.Sequential(\n",
        "            nn.Conv2d(1, 6, kernel_size=5),  # 32x32 → 28x28\n",
        "            nn.Tanh(),\n",
        "            nn.AvgPool2d(2),                # 28x28 → 14x14\n",
        "            nn.Conv2d(6, 16, kernel_size=5),# 14x14 → 10x10\n",
        "            nn.Tanh(),\n",
        "            nn.AvgPool2d(2),                # 10x10 → 5x5\n",
        "            nn.Flatten(),\n",
        "            nn.Linear(16 * 5 * 5, 120),\n",
        "            nn.Tanh(),\n",
        "            nn.Linear(120, 84),\n",
        "            nn.Tanh(),\n",
        "            nn.Linear(84, 10)\n",
        "        )\n",
        "\n",
        "    def forward(self, x):\n",
        "        return self.model(x)\n"
      ]
    },
    {
      "cell_type": "code",
      "execution_count": 4,
      "metadata": {
        "id": "_7Ao1WO8aRP6"
      },
      "outputs": [],
      "source": [
        "class AlexNet(nn.Module):\n",
        "    def __init__(self):\n",
        "        super(AlexNet, self).__init__()\n",
        "        self.model = nn.Sequential(\n",
        "            # Reduced kernel size and stride for smaller input\n",
        "            nn.Conv2d(1, 64, kernel_size=3, stride=1, padding=1), # 32x32 -> 32x32\n",
        "            nn.ReLU(),\n",
        "            nn.MaxPool2d(kernel_size=2, stride=2),              # 32x32 -> 16x16\n",
        "\n",
        "            nn.Conv2d(64, 192, kernel_size=3, padding=1),       # 16x16 -> 16x16\n",
        "            nn.ReLU(),\n",
        "            nn.MaxPool2d(kernel_size=2, stride=2),              # 16x16 -> 8x8\n",
        "\n",
        "            nn.Conv2d(192, 384, kernel_size=3, padding=1),      # 8x8 -> 8x8\n",
        "            nn.ReLU(),\n",
        "            nn.Conv2d(384, 256, kernel_size=3, padding=1),      # 8x8 -> 8x8\n",
        "            nn.ReLU(),\n",
        "            nn.Conv2d(256, 256, kernel_size=3, padding=1),      # 8x8 -> 8x8\n",
        "            nn.ReLU(),\n",
        "            nn.MaxPool2d(kernel_size=2, stride=2),              # 8x8 -> 4x4\n",
        "\n",
        "            nn.Flatten(),\n",
        "            # Calculate the flattened size based on the final spatial dimensions (4x4)\n",
        "            nn.Linear(256 * 4 * 4, 4096),\n",
        "            nn.ReLU(),\n",
        "            nn.Dropout(),\n",
        "            nn.Linear(4096, 4096),\n",
        "            nn.ReLU(),\n",
        "            nn.Dropout(),\n",
        "            nn.Linear(4096, 10)\n",
        "        )\n",
        "\n",
        "    def forward(self, x):\n",
        "        return self.model(x)"
      ]
    },
    {
      "cell_type": "code",
      "execution_count": 5,
      "metadata": {
        "id": "xk5Qx8a5aUur"
      },
      "outputs": [],
      "source": [
        "class VGG11(nn.Module):\n",
        "    def __init__(self):\n",
        "        super(VGG11, self).__init__()\n",
        "        self.features = nn.Sequential(\n",
        "            nn.Conv2d(1, 64, kernel_size=3, padding=1), nn.ReLU(),\n",
        "            nn.MaxPool2d(kernel_size=2, stride=2),\n",
        "\n",
        "            nn.Conv2d(64, 128, kernel_size=3, padding=1), nn.ReLU(),\n",
        "            nn.MaxPool2d(kernel_size=2, stride=2),\n",
        "\n",
        "            nn.Conv2d(128, 256, kernel_size=3, padding=1), nn.ReLU(),\n",
        "            nn.Conv2d(256, 256, kernel_size=3, padding=1), nn.ReLU(),\n",
        "            nn.MaxPool2d(kernel_size=2, stride=2),\n",
        "\n",
        "            nn.Conv2d(256, 512, kernel_size=3, padding=1), nn.ReLU(),\n",
        "            nn.Conv2d(512, 512, kernel_size=3, padding=1), nn.ReLU(),\n",
        "            nn.MaxPool2d(kernel_size=2, stride=2),\n",
        "\n",
        "            nn.Conv2d(512, 512, kernel_size=3, padding=1), nn.ReLU(),\n",
        "            nn.Conv2d(512, 512, kernel_size=3, padding=1), nn.ReLU(),\n",
        "            nn.MaxPool2d(kernel_size=2, stride=2)\n",
        "        )\n",
        "        self.classifier = nn.Sequential(\n",
        "            nn.Linear(512, 4096), nn.ReLU(), nn.Dropout(),\n",
        "            nn.Linear(4096, 4096), nn.ReLU(), nn.Dropout(),\n",
        "            nn.Linear(4096, 10)\n",
        "        )\n",
        "\n",
        "    def forward(self, x):\n",
        "        x = self.features(x)\n",
        "        x = x.view(x.size(0), -1)\n",
        "        return self.classifier(x)\n"
      ]
    },
    {
      "cell_type": "code",
      "execution_count": 8,
      "metadata": {
        "id": "jcpVYjgwaVp6"
      },
      "outputs": [],
      "source": [
        "def train_and_evaluate(model, epochs, model_name):\n",
        "    device = torch.device(\"cuda\" if torch.cuda.is_available() else \"cpu\")\n",
        "    model.to(device)\n",
        "\n",
        "    criterion = nn.CrossEntropyLoss()\n",
        "    optimizer = optim.Adam(model.parameters(), lr=0.001)\n",
        "\n",
        "    accuracies = {}\n",
        "\n",
        "    for epoch in range(1, epochs + 1):\n",
        "        model.train()\n",
        "        for data, targets in train_loader:\n",
        "            data, targets = data.to(device), targets.to(device)\n",
        "            optimizer.zero_grad()\n",
        "            output = model(data)\n",
        "            loss = criterion(output, targets)\n",
        "            loss.backward()\n",
        "            optimizer.step()\n",
        "\n",
        "        # Evaluation\n",
        "        if epoch in [5, 50]:\n",
        "            model.eval()\n",
        "            correct = 0\n",
        "            total = 0\n",
        "            with torch.no_grad():\n",
        "                for data, targets in test_loader:\n",
        "                    data, targets = data.to(device), targets.to(device)\n",
        "                    output = model(data)\n",
        "                    _, predicted = torch.max(output.data, 1)\n",
        "                    total += targets.size(0)\n",
        "                    correct += (predicted == targets).sum().item()\n",
        "            accuracy = 100 * correct / total\n",
        "            accuracies[epoch] = accuracy\n",
        "            print(f\"{model_name} Epoch {epoch}: Accuracy = {accuracy:.2f}%\")\n",
        "\n",
        "    return accuracies\n"
      ]
    },
    {
      "cell_type": "code",
      "execution_count": null,
      "metadata": {
        "colab": {
          "base_uri": "https://localhost:8080/"
        },
        "id": "I_S_Xc13aZ9a",
        "outputId": "956c02c2-f4a6-4f94-9828-23484c9a2b20"
      },
      "outputs": [
        {
          "output_type": "stream",
          "name": "stdout",
          "text": [
            "LeNet Epoch 5: Accuracy = 98.39%\n"
          ]
        }
      ],
      "source": [
        "lenet_acc = train_and_evaluate(LeNet(), 50, \"LeNet\")"
      ]
    },
    {
      "cell_type": "code",
      "execution_count": null,
      "metadata": {
        "id": "_K6OGkgOiA7V"
      },
      "outputs": [],
      "source": [
        "alexnet_acc = train_and_evaluate(AlexNet(), 50, \"AlexNet\")"
      ]
    },
    {
      "cell_type": "code",
      "execution_count": null,
      "metadata": {
        "id": "Pm4xlzb-dEM5"
      },
      "outputs": [],
      "source": [
        "vgg_acc = train_and_evaluate(VGG11(), 50, \"VGG11\")"
      ]
    }
  ],
  "metadata": {
    "accelerator": "GPU",
    "colab": {
      "gpuType": "T4",
      "provenance": [],
      "include_colab_link": true
    },
    "kernelspec": {
      "display_name": "Python 3",
      "name": "python3"
    },
    "language_info": {
      "name": "python"
    }
  },
  "nbformat": 4,
  "nbformat_minor": 0
}